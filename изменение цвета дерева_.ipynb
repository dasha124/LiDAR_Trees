{
 "cells": [
  {
   "cell_type": "markdown",
   "metadata": {},
   "source": [
    "## Центрирование изначально зеленого дерева"
   ]
  },
  {
   "cell_type": "code",
   "execution_count": null,
   "metadata": {},
   "outputs": [],
   "source": [
    "# центруем с учетом сдвига\n",
    "import laspy\n",
    "import numpy as np\n",
    "\n",
    "inFile = laspy.read(\"tree_0011 + colour.las\")\n",
    "\n",
    "# Находим средние значения координат x, y, z всех точек\n",
    "mean_x = np.mean(inFile.x)\n",
    "mean_y = np.mean(inFile.y)\n",
    "mean_z = np.mean(inFile.z)\n",
    "\n",
    "# Вычитаем средние значения из координат каждой точки\n",
    "for i in range(len(inFile)):\n",
    "    inFile.x[i] -= mean_x\n",
    "    inFile.y[i] -= mean_y\n",
    "    inFile.z[i] -= mean_z\n",
    "\n",
    "# Нормализуем координаты точек\n",
    "max_val = max(np.max(inFile.x), np.max(inFile.y), np.max(inFile.z))\n",
    "scale_factor = 1000 / max_val  # Масштабируем до диапазона 0-1000\n",
    "inFile.x *= scale_factor\n",
    "inFile.y *= scale_factor\n",
    "inFile.z *= scale_factor\n",
    "\n",
    "\n",
    "# Записываем измененные точки в новый файл LAS\n",
    "outFile = laspy.create(point_format=2)\n",
    "outFile.header = inFile.header\n",
    "outFile.points = inFile.points\n",
    "outFile.write(\"centered_tree.las\")\n",
    "\n",
    "print(\"Tree centered at origin, normalized, and saved to centered_tree.las\")\n"
   ]
  },
  {
   "cell_type": "markdown",
   "metadata": {},
   "source": [
    "## Цвет + глубина"
   ]
  },
  {
   "cell_type": "code",
   "execution_count": null,
   "metadata": {},
   "outputs": [],
   "source": [
    "import laspy\n",
    "import numpy as np\n",
    "from laspy.file import File\n",
    "\n",
    "\n",
    "# Read the LAS file\n",
    "inFile = laspy.read(\"tree_0011 + colour.las\")\n",
    "\n",
    "# Calculate the mean of x, y, and z coordinates\n",
    "mean_x = np.mean(inFile.x)\n",
    "mean_y = np.mean(inFile.y)\n",
    "mean_z = np.mean(inFile.z)\n",
    "\n",
    "# Center the points\n",
    "for i in range(len(inFile)):\n",
    "    inFile.x[i] -= mean_x\n",
    "    inFile.y[i] -= mean_y\n",
    "    inFile.z[i] -= mean_z\n",
    "\n",
    "# Scale the points\n",
    "max_val = max(np.max(inFile.x), np.max(inFile.y), np.max(inFile.z))\n",
    "scale_factor = 1000 / max_val\n",
    "inFile.x *= scale_factor\n",
    "inFile.y *= scale_factor\n",
    "inFile.z *= scale_factor\n",
    "\n",
    "# Calculate distances and normalize them\n",
    "distances = np.sqrt(np.square(inFile.x) + np.square(inFile.y))\n",
    "min_dist = np.min(distances)\n",
    "max_dist = np.max(distances)\n",
    "\n",
    "# Create a color array based on distances\n",
    "colors = np.zeros((len(inFile), 3))\n",
    "for i in range(len(inFile)):\n",
    "    normalized_dist = (distances[i] - min_dist) / (max_dist - min_dist)\n",
    "    colors[i] = [0, 255 - int(normalized_dist*255), 0]\n",
    "\n",
    "\n",
    "# Create a new LAS file with the desired point format\n",
    "outFile = laspy.create(point_format=2)\n",
    "outFile.header = inFile.header\n",
    "outFile.points = inFile.points\n",
    "# inFile.color = colors\n",
    "outFile.color = colors\n",
    "outFile.write(\"centered_tree+col.las\")"
   ]
  }
 ],
 "metadata": {
  "kernelspec": {
   "display_name": "Python 3",
   "language": "python",
   "name": "python3"
  },
  "language_info": {
   "name": "python",
   "version": "3.10.12"
  }
 },
 "nbformat": 4,
 "nbformat_minor": 2
}
